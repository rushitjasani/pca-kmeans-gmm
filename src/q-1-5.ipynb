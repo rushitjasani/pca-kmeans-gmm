{
 "cells": [
  {
   "cell_type": "raw",
   "metadata": {},
   "source": [
    "For binary variables (a very specific class of categorical variables !), using pca does make sense (and is quite close to MCA) and, although appealing at first sight, transforming general categorical variables to binary variables (disjunctive coding) never really works as the pca analysis will first reveal the obvious negative correlations between binary variables obtained from the same original categorical variable so, for non-binary categorical variables, use MCA or CATPCA!"
   ]
  }
 ],
 "metadata": {
  "kernelspec": {
   "display_name": "Python 2",
   "language": "python",
   "name": "python2"
  },
  "language_info": {
   "codemirror_mode": {
    "name": "ipython",
    "version": 2
   },
   "file_extension": ".py",
   "mimetype": "text/x-python",
   "name": "python",
   "nbconvert_exporter": "python",
   "pygments_lexer": "ipython2",
   "version": "2.7.15+"
  }
 },
 "nbformat": 4,
 "nbformat_minor": 2
}
