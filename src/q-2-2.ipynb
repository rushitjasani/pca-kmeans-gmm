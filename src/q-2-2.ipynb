{
 "cells": [
  {
   "cell_type": "code",
   "execution_count": 6,
   "metadata": {},
   "outputs": [],
   "source": [
    "import pandas as pd\n",
    "from sklearn import preprocessing\n",
    "from sklearn.linear_model import LogisticRegression\n",
    "import numpy as np\n",
    "import sklearn as sk\n",
    "from sklearn.metrics import r2_score\n",
    "from sklearn.model_selection import train_test_split\n",
    "from sklearn.metrics import accuracy_score, confusion_matrix, classification_report\n",
    "from sklearn.metrics import average_precision_score\n",
    "from sklearn.metrics import recall_score\n",
    "np.seterr(divide='ignore', invalid='ignore')\n",
    "import operator\n",
    "\n",
    "from pylab import *\n",
    "import matplotlib\n",
    "import matplotlib.pyplot as plt"
   ]
  },
  {
   "cell_type": "code",
   "execution_count": 7,
   "metadata": {},
   "outputs": [
    {
     "name": "stderr",
     "output_type": "stream",
     "text": [
      "/home/rushit/.local/lib/python2.7/site-packages/ipykernel_launcher.py:11: DataConversionWarning: Data with input dtype int64, float64 were all converted to float64 by the scale function.\n",
      "  # This is added back by InteractiveShellApp.init_path()\n"
     ]
    }
   ],
   "source": [
    "df1 = pd.read_csv(\"../input_data/AdmissionDataset/data.csv\")\n",
    "# print df1.describe()\n",
    "df = df1.copy(deep=True)\n",
    "threshold = 0.5\n",
    "df.loc[df['Chance of Admit ']<threshold,'Chance of Admit '] = 0\n",
    "df.loc[df['Chance of Admit ']>=threshold,'Chance of Admit '] = 1\n",
    "X = df.drop(['Serial No.','Chance of Admit '],axis=1)\n",
    "Y = df['Chance of Admit ']\n",
    "labels = Y.unique()\n",
    "col_names = [i for i in X]\n",
    "X = pd.DataFrame(preprocessing.scale(X), columns = col_names)\n",
    "\n",
    "X_train, X_test, Y_train, Y_test = train_test_split(X, Y, test_size=0.2)"
   ]
  },
  {
   "cell_type": "code",
   "execution_count": 8,
   "metadata": {},
   "outputs": [],
   "source": [
    "def knn(X_train, Y_train,k):\n",
    "    df1 = pd.concat([X_train, Y_train],axis=1).reset_index(drop=True)\n",
    "    \n",
    "    def euclidean_distance(x, y):   \n",
    "        return np.sqrt(np.sum((x - y) ** 2))\n",
    "\n",
    "    def predict(X_test,k):\n",
    "        Y_predict = []\n",
    "        for index, row in X_test.iterrows():\n",
    "            dist = {}\n",
    "            labeldict = {i:0 for i in labels}\n",
    "            for index1, row1 in df1.iterrows():\n",
    "                dist[index1] = euclidean_distance(row,row1)\n",
    "\n",
    "            od = sorted(dist.items(), key=operator.itemgetter(1))\n",
    "            count = k\n",
    "            for i,j in od:\n",
    "                count-=1\n",
    "                labeldict[df1.iloc[i]['Chance of Admit ']]+=1\n",
    "                if count==0:\n",
    "                    break\n",
    "\n",
    "            ans_label=0\n",
    "            ans_count=-1\n",
    "            for i,j in labeldict.iteritems():\n",
    "                if j>=ans_count:\n",
    "                    ans_label=i\n",
    "                    ans_count=j\n",
    "            Y_predict.append(ans_label)\n",
    "        return Y_predict\n",
    "\n",
    "    p = predict(X_test,k)\n",
    "    print confusion_matrix(Y_test,p)\n",
    "    print classification_report(Y_test,p)\n",
    "    print accuracy_score(Y_test,p)\n"
   ]
  },
  {
   "cell_type": "code",
   "execution_count": 9,
   "metadata": {},
   "outputs": [],
   "source": [
    "def logistic(X_train,Y_train):\n",
    "    \n",
    "\n",
    "    X_train1 = X_train.reset_index(drop=True)\n",
    "    Y_train1 = Y_train.reset_index(drop=True)\n",
    "\n",
    "    ones = pd.DataFrame(1,index=np.arange(X_train.shape[0]),columns=[\"ones\"])\n",
    "    X_train1 = pd.concat([ones, X_train1],axis=1)\n",
    "    X_train1 = np.array(X_train1)\n",
    "    Y_train1 = np.array(Y_train1).reshape(X_train1.shape[0],1)\n",
    "\n",
    "    theta = np.zeros([1,8])\n",
    "    alpha = 0.01\n",
    "    iterations = 1000\n",
    "\n",
    "    def h(X):\n",
    "        X=-X\n",
    "        return 1/(1+np.exp(X))\n",
    "\n",
    "    def gradientDescent(X,Y,theta,it,alpha):\n",
    "        for i in range(it):\n",
    "            theta = theta - (alpha) * np.sum(X * (h(np.matmul(X, theta.T)) - Y), axis=0)\n",
    "        return theta\n",
    "\n",
    "    g = gradientDescent(X_train1,Y_train1,theta,iterations,alpha)\n",
    "    theta_list = g[0]\n",
    "\n",
    "    def predict(X_test):\n",
    "        Y_pred=[]\n",
    "        for index,row in X_test.iterrows():\n",
    "            row=list(row)\n",
    "            y1=0\n",
    "            for i in range(1,8):\n",
    "                y1=y1+theta_list[i]*row[i-1]\n",
    "            y1=y1+theta_list[0]\n",
    "            Y_pred.append(0 if y1<0.5 else 1)\n",
    "        return Y_pred\n",
    "    pred = predict(X_test)\n",
    "    print confusion_matrix(Y_test,pred)\n",
    "    print classification_report(Y_test,pred)\n",
    "    print accuracy_score(Y_test,pred)\n"
   ]
  },
  {
   "cell_type": "code",
   "execution_count": 10,
   "metadata": {},
   "outputs": [
    {
     "name": "stdout",
     "output_type": "stream",
     "text": [
      "[[ 4  5]\n",
      " [ 2 79]]\n",
      "              precision    recall  f1-score   support\n",
      "\n",
      "         0.0       0.67      0.44      0.53         9\n",
      "         1.0       0.94      0.98      0.96        81\n",
      "\n",
      "   micro avg       0.92      0.92      0.92        90\n",
      "   macro avg       0.80      0.71      0.75        90\n",
      "weighted avg       0.91      0.92      0.92        90\n",
      "\n",
      "0.9222222222222223\n",
      "[[ 2  7]\n",
      " [ 1 80]]\n",
      "              precision    recall  f1-score   support\n",
      "\n",
      "         0.0       0.67      0.22      0.33         9\n",
      "         1.0       0.92      0.99      0.95        81\n",
      "\n",
      "   micro avg       0.91      0.91      0.91        90\n",
      "   macro avg       0.79      0.60      0.64        90\n",
      "weighted avg       0.89      0.91      0.89        90\n",
      "\n",
      "0.9111111111111111\n"
     ]
    }
   ],
   "source": [
    "logistic(X_train.copy(deep=True),Y_train.copy(deep=True))\n",
    "knn(X_train.copy(deep=True),Y_train.copy(deep=True),5)"
   ]
  }
 ],
 "metadata": {
  "kernelspec": {
   "display_name": "Python 2",
   "language": "python",
   "name": "python2"
  },
  "language_info": {
   "codemirror_mode": {
    "name": "ipython",
    "version": 2
   },
   "file_extension": ".py",
   "mimetype": "text/x-python",
   "name": "python",
   "nbconvert_exporter": "python",
   "pygments_lexer": "ipython2",
   "version": "2.7.15rc1"
  }
 },
 "nbformat": 4,
 "nbformat_minor": 2
}
