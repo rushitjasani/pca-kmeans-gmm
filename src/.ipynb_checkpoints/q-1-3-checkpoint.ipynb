{
 "cells": [
  {
   "cell_type": "code",
   "execution_count": 1,
   "metadata": {},
   "outputs": [],
   "source": [
    "import pandas as pd\n",
    "import numpy as np\n",
    "import random as rd\n",
    "from sklearn.preprocessing import StandardScaler\n",
    "from sklearn.decomposition import PCA\n",
    "from sklearn.mixture import GaussianMixture\n",
    "import math"
   ]
  },
  {
   "cell_type": "code",
   "execution_count": 2,
   "metadata": {},
   "outputs": [],
   "source": [
    "df = pd.read_csv(\"../input_data/intrusion_detection/data.csv\")\n",
    "Y = df.xAttack\n",
    "X = df.drop(['xAttack'],axis=1)\n",
    "X = (X - X.mean())/X.std()"
   ]
  },
  {
   "cell_type": "code",
   "execution_count": 3,
   "metadata": {},
   "outputs": [],
   "source": [
    "cov_x = np.cov(X.T)\n",
    "\n",
    "U,S,V = np.linalg.svd(cov_x)\n",
    "S_sum = float(np.sum(S))\n",
    "\n",
    "running_sum = 0\n",
    "num_of_comp = 0\n",
    "for i in xrange(len(S)):\n",
    "    running_sum += S[i]\n",
    "    if running_sum  / S_sum  >= 0.90:\n",
    "        num_of_comp = i+1\n",
    "        break\n",
    "\n",
    "U_red = U[:,:num_of_comp]\n",
    "\n",
    "Z = np.matmul(U_red.T, X.T)\n",
    "Z = Z.T\n",
    "Z_new = pd.DataFrame( Z,columns=[ \"pc\"+str(i) for i in xrange(Z.shape[1]) ] )"
   ]
  },
  {
   "cell_type": "code",
   "execution_count": null,
   "metadata": {},
   "outputs": [],
   "source": []
  },
  {
   "cell_type": "code",
   "execution_count": 4,
   "metadata": {},
   "outputs": [],
   "source": [
    "gmm = GaussianMixture(n_components=5, n_init=10 )"
   ]
  },
  {
   "cell_type": "code",
   "execution_count": 5,
   "metadata": {},
   "outputs": [
    {
     "data": {
      "text/plain": [
       "GaussianMixture(covariance_type='full', init_params='kmeans', max_iter=100,\n",
       "        means_init=None, n_components=5, n_init=10, precisions_init=None,\n",
       "        random_state=None, reg_covar=1e-06, tol=0.001, verbose=0,\n",
       "        verbose_interval=10, warm_start=False, weights_init=None)"
      ]
     },
     "execution_count": 5,
     "metadata": {},
     "output_type": "execute_result"
    }
   ],
   "source": [
    "gmm.fit(Z_new)"
   ]
  },
  {
   "cell_type": "code",
   "execution_count": 6,
   "metadata": {},
   "outputs": [
    {
     "name": "stdout",
     "output_type": "stream",
     "text": [
      "(125973,)\n"
     ]
    }
   ],
   "source": [
    "# print gmm.means_\n",
    "# print gmm.covariances_\n",
    "class_var =  gmm.predict(Z_new)\n",
    "print class_var.shape"
   ]
  },
  {
   "cell_type": "code",
   "execution_count": 7,
   "metadata": {},
   "outputs": [],
   "source": [
    "def purity(df,K):\n",
    "    pur_dict = {}\n",
    "    for i in xrange(K):\n",
    "        sub_tab = df[ df['pred_Y'] == i ]\n",
    "        name,count = np.unique(sub_tab['xAttack'],return_counts=True)\n",
    "        mx_ind = np.argmax(count)\n",
    "        print i , name[mx_ind]\n",
    "        pur_dict[i] = count[mx_ind] / float(len(sub_tab))\n",
    "        print name\n",
    "        print count\n",
    "        \n",
    "    return pur_dict"
   ]
  },
  {
   "cell_type": "code",
   "execution_count": 8,
   "metadata": {},
   "outputs": [],
   "source": [
    "Z_new = pd.DataFrame( Z,columns=[ \"pc\"+str(i) for i in xrange(Z.shape[1]) ] )\n",
    "Z_new = pd.concat([Z_new, Y], axis=1)\n",
    "\n",
    "pred_Y = pd.DataFrame( class_var,columns=[ 'pred_Y' ] )\n",
    "Z_final = pd.concat([Z_new, pred_Y],axis=1)"
   ]
  },
  {
   "cell_type": "code",
   "execution_count": 9,
   "metadata": {},
   "outputs": [
    {
     "name": "stdout",
     "output_type": "stream",
     "text": [
      "0 normal\n",
      "['dos' 'normal' 'probe' 'r2l' 'u2r']\n",
      "[ 309 2747   23  417   38]\n",
      "1 normal\n",
      "['dos' 'normal' 'probe' 'r2l' 'u2r']\n",
      "[ 2608 47503   418    59    10]\n",
      "2 normal\n",
      "['dos' 'normal' 'probe' 'r2l' 'u2r']\n",
      "[ 7415 12484  6558   469     2]\n",
      "3 dos\n",
      "['dos']\n",
      "[31471]\n",
      "4 probe\n",
      "['dos' 'normal' 'probe' 'r2l' 'u2r']\n",
      "[4124 4609 4657   50    2]\n",
      "{0: 0.777306168647425, 1: 0.9388315743705284, 2: 0.46360665478312535, 3: 1.0, 4: 0.34645142091950604}\n"
     ]
    }
   ],
   "source": [
    "purity_dict = purity(Z_final,5)\n",
    "print purity_dict"
   ]
  },
  {
   "cell_type": "code",
   "execution_count": null,
   "metadata": {},
   "outputs": [],
   "source": []
  }
 ],
 "metadata": {
  "kernelspec": {
   "display_name": "Python 2",
   "language": "python",
   "name": "python2"
  },
  "language_info": {
   "codemirror_mode": {
    "name": "ipython",
    "version": 2
   },
   "file_extension": ".py",
   "mimetype": "text/x-python",
   "name": "python",
   "nbconvert_exporter": "python",
   "pygments_lexer": "ipython2",
   "version": "2.7.15rc1"
  }
 },
 "nbformat": 4,
 "nbformat_minor": 2
}
