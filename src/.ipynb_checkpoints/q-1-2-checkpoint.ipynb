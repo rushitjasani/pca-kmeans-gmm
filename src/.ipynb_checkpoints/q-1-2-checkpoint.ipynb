{
 "cells": [
  {
   "cell_type": "code",
   "execution_count": 1,
   "metadata": {},
   "outputs": [],
   "source": [
    "import pandas as pd\n",
    "import numpy as np\n",
    "import random as rd\n",
    "from sklearn.preprocessing import StandardScaler\n",
    "from sklearn.decomposition import PCA\n",
    "from sklearn.cluster import KMeans\n",
    "import math"
   ]
  },
  {
   "cell_type": "code",
   "execution_count": 2,
   "metadata": {
    "scrolled": true
   },
   "outputs": [],
   "source": [
    "df = pd.read_csv(\"../input_data/intrusion_detection/data.csv\")\n",
    "Y = df.xAttack\n",
    "X = df.drop(['xAttack'],axis=1)\n",
    "X = (X - X.mean())/X.std()"
   ]
  },
  {
   "cell_type": "code",
   "execution_count": 3,
   "metadata": {},
   "outputs": [],
   "source": [
    "cov_x = np.cov(X.T)\n",
    "\n",
    "U,S,V = np.linalg.svd(cov_x)\n",
    "S_sum = float(np.sum(S))\n",
    "\n",
    "running_sum = 0\n",
    "num_of_comp = 0\n",
    "for i in xrange(len(S)):\n",
    "    running_sum += S[i]\n",
    "    if running_sum  / S_sum  >= 0.90:\n",
    "        num_of_comp = i+1\n",
    "        break\n",
    "\n",
    "U_red = U[:,:num_of_comp]\n",
    "\n",
    "Z = np.matmul(U_red.T, X.T)\n",
    "Z = Z.T\n",
    "Z_new = pd.DataFrame( Z,columns=[ \"pc\"+str(i) for i in xrange(Z.shape[1]) ] )"
   ]
  },
  {
   "cell_type": "code",
   "execution_count": 4,
   "metadata": {},
   "outputs": [
    {
     "data": {
      "text/html": [
       "<div>\n",
       "<style scoped>\n",
       "    .dataframe tbody tr th:only-of-type {\n",
       "        vertical-align: middle;\n",
       "    }\n",
       "\n",
       "    .dataframe tbody tr th {\n",
       "        vertical-align: top;\n",
       "    }\n",
       "\n",
       "    .dataframe thead th {\n",
       "        text-align: right;\n",
       "    }\n",
       "</style>\n",
       "<table border=\"1\" class=\"dataframe\">\n",
       "  <thead>\n",
       "    <tr style=\"text-align: right;\">\n",
       "      <th></th>\n",
       "      <th>pc0</th>\n",
       "      <th>pc1</th>\n",
       "      <th>pc2</th>\n",
       "      <th>pc3</th>\n",
       "      <th>pc4</th>\n",
       "      <th>pc5</th>\n",
       "      <th>pc6</th>\n",
       "      <th>pc7</th>\n",
       "      <th>pc8</th>\n",
       "      <th>pc9</th>\n",
       "      <th>pc10</th>\n",
       "      <th>pc11</th>\n",
       "      <th>pc12</th>\n",
       "      <th>pc13</th>\n",
       "    </tr>\n",
       "  </thead>\n",
       "  <tbody>\n",
       "    <tr>\n",
       "      <th>0</th>\n",
       "      <td>-2.509415</td>\n",
       "      <td>-0.952099</td>\n",
       "      <td>-0.080574</td>\n",
       "      <td>0.089473</td>\n",
       "      <td>-0.465558</td>\n",
       "      <td>0.264131</td>\n",
       "      <td>-0.073175</td>\n",
       "      <td>-0.122966</td>\n",
       "      <td>-0.115928</td>\n",
       "      <td>0.037054</td>\n",
       "      <td>-0.015485</td>\n",
       "      <td>0.085030</td>\n",
       "      <td>0.478752</td>\n",
       "      <td>0.380050</td>\n",
       "    </tr>\n",
       "    <tr>\n",
       "      <th>1</th>\n",
       "      <td>1.193236</td>\n",
       "      <td>5.598092</td>\n",
       "      <td>-0.270790</td>\n",
       "      <td>1.130941</td>\n",
       "      <td>-0.813088</td>\n",
       "      <td>1.629181</td>\n",
       "      <td>0.541842</td>\n",
       "      <td>0.190282</td>\n",
       "      <td>0.243673</td>\n",
       "      <td>-0.079391</td>\n",
       "      <td>0.028093</td>\n",
       "      <td>0.064366</td>\n",
       "      <td>-0.430109</td>\n",
       "      <td>0.264010</td>\n",
       "    </tr>\n",
       "    <tr>\n",
       "      <th>2</th>\n",
       "      <td>-2.447051</td>\n",
       "      <td>-0.908922</td>\n",
       "      <td>-0.060318</td>\n",
       "      <td>0.031070</td>\n",
       "      <td>-0.822722</td>\n",
       "      <td>0.170780</td>\n",
       "      <td>-0.098459</td>\n",
       "      <td>-0.161764</td>\n",
       "      <td>-0.088158</td>\n",
       "      <td>-0.084797</td>\n",
       "      <td>0.005994</td>\n",
       "      <td>0.050481</td>\n",
       "      <td>0.754346</td>\n",
       "      <td>0.429607</td>\n",
       "    </tr>\n",
       "    <tr>\n",
       "      <th>3</th>\n",
       "      <td>-1.111736</td>\n",
       "      <td>-0.343088</td>\n",
       "      <td>0.004162</td>\n",
       "      <td>-0.266447</td>\n",
       "      <td>-0.166211</td>\n",
       "      <td>-0.596454</td>\n",
       "      <td>-0.015911</td>\n",
       "      <td>0.026994</td>\n",
       "      <td>0.161910</td>\n",
       "      <td>-0.061835</td>\n",
       "      <td>0.050150</td>\n",
       "      <td>-0.362922</td>\n",
       "      <td>0.542284</td>\n",
       "      <td>0.408395</td>\n",
       "    </tr>\n",
       "    <tr>\n",
       "      <th>4</th>\n",
       "      <td>3.983887</td>\n",
       "      <td>-1.268837</td>\n",
       "      <td>-0.050827</td>\n",
       "      <td>0.252373</td>\n",
       "      <td>0.537136</td>\n",
       "      <td>0.561597</td>\n",
       "      <td>0.278500</td>\n",
       "      <td>0.038172</td>\n",
       "      <td>0.012687</td>\n",
       "      <td>-0.004357</td>\n",
       "      <td>-0.013466</td>\n",
       "      <td>0.041690</td>\n",
       "      <td>-0.072666</td>\n",
       "      <td>-0.071331</td>\n",
       "    </tr>\n",
       "  </tbody>\n",
       "</table>\n",
       "</div>"
      ],
      "text/plain": [
       "        pc0       pc1       pc2       pc3       pc4       pc5       pc6  \\\n",
       "0 -2.509415 -0.952099 -0.080574  0.089473 -0.465558  0.264131 -0.073175   \n",
       "1  1.193236  5.598092 -0.270790  1.130941 -0.813088  1.629181  0.541842   \n",
       "2 -2.447051 -0.908922 -0.060318  0.031070 -0.822722  0.170780 -0.098459   \n",
       "3 -1.111736 -0.343088  0.004162 -0.266447 -0.166211 -0.596454 -0.015911   \n",
       "4  3.983887 -1.268837 -0.050827  0.252373  0.537136  0.561597  0.278500   \n",
       "\n",
       "        pc7       pc8       pc9      pc10      pc11      pc12      pc13  \n",
       "0 -0.122966 -0.115928  0.037054 -0.015485  0.085030  0.478752  0.380050  \n",
       "1  0.190282  0.243673 -0.079391  0.028093  0.064366 -0.430109  0.264010  \n",
       "2 -0.161764 -0.088158 -0.084797  0.005994  0.050481  0.754346  0.429607  \n",
       "3  0.026994  0.161910 -0.061835  0.050150 -0.362922  0.542284  0.408395  \n",
       "4  0.038172  0.012687 -0.004357 -0.013466  0.041690 -0.072666 -0.071331  "
      ]
     },
     "execution_count": 4,
     "metadata": {},
     "output_type": "execute_result"
    }
   ],
   "source": [
    "Z_new.head()"
   ]
  },
  {
   "cell_type": "code",
   "execution_count": null,
   "metadata": {},
   "outputs": [],
   "source": []
  },
  {
   "cell_type": "code",
   "execution_count": 5,
   "metadata": {},
   "outputs": [
    {
     "name": "stdout",
     "output_type": "stream",
     "text": [
      "[1 3 1 ... 1 0 2]\n"
     ]
    }
   ],
   "source": [
    "kmeans = KMeans(n_clusters=5, random_state=0).fit(Z_new)\n",
    "cluster_scikit = kmeans.labels_\n",
    "print cluster_scikit"
   ]
  },
  {
   "cell_type": "markdown",
   "metadata": {},
   "source": [
    "new_df = Z_new.iloc[:,:].values\n",
    "m = new_df.shape[0]\n",
    "n = new_df.shape[1]\n",
    "n_iter = 1\n",
    "K = 5"
   ]
  },
  {
   "cell_type": "markdown",
   "metadata": {},
   "source": [
    "Centroids=np.array([]).reshape(n,0)\n",
    "for i in range(K):\n",
    "    rand=rd.randint(0,m-1)\n",
    "    Centroids=np.c_[Centroids,new_df[rand]]\n",
    "print Centroids.shape\n",
    "#print Centroids\n",
    "print new_df.shape"
   ]
  },
  {
   "cell_type": "markdown",
   "metadata": {},
   "source": [
    "Output={}\n",
    "for i in range(n_iter):\n",
    "    EuclidianDistance=np.array([]).reshape(m,0)\n",
    "    for k in xrange(K):\n",
    "        tempDist=np.sum((new_df-Centroids[:,k])**2,axis=1)\n",
    "        EuclidianDistance=np.c_[EuclidianDistance,tempDist]\n",
    "    C=np.argmin(EuclidianDistance,axis=1)+1\n",
    "\n",
    "    Y={}\n",
    "    for k in range(K):\n",
    "        Y[k+1]=np.array([]).reshape(n,0)\n",
    "    for i in range(m):\n",
    "        Y[C[i]]=np.c_[Y[C[i]],new_df[i]]\n",
    "\n",
    "    for k in range(K):\n",
    "        Y[k+1]=Y[k+1].T\n",
    "\n",
    "    for k in range(K):\n",
    "         Centroids[:,k]=np.mean(Y[k+1],axis=0)\n",
    "    Output=Y"
   ]
  },
  {
   "cell_type": "code",
   "execution_count": 6,
   "metadata": {},
   "outputs": [],
   "source": [
    "def euclidean_distance(x,y):\n",
    "    return np.sum((x - y)**2)\n",
    "\n",
    "def kmeans(K,df):\n",
    "\n",
    "    d = df.shape[1] \n",
    "    n = df.shape[0]\n",
    "    Max_Iterations = 100\n",
    "    i = 0\n",
    "    \n",
    "    cluster = [0] * n\n",
    "    prev_cluster = [-1] * n\n",
    "    \n",
    "    cluster_centers = [rd.choice(df) for i in xrange(K) ]    \n",
    "    force_recalculation = False\n",
    "    \n",
    "    while (cluster != prev_cluster) or (i > Max_Iterations) or (force_recalculation) :\n",
    "        prev_cluster = list(cluster)\n",
    "        force_recalculation = False\n",
    "        i += 1\n",
    "    \n",
    "        for p in xrange(n):\n",
    "            min_dist = float(\"inf\")\n",
    "            for c in xrange(K):\n",
    "                dist = euclidean_distance(df[p],cluster_centers[c])\n",
    "                if (dist < min_dist):\n",
    "                    min_dist = dist  \n",
    "                    cluster[p] = c\n",
    "        \n",
    "        for k in xrange(K):\n",
    "            new_center = [0] * d\n",
    "            members = 0\n",
    "            for p in xrange(n):\n",
    "                if (cluster[p] == k):\n",
    "                    for j in xrange(d):\n",
    "                        new_center[j] += df[p][j]\n",
    "                    members += 1\n",
    "            \n",
    "            for j in xrange(d):\n",
    "                if members != 0:\n",
    "                    new_center[j] = new_center[j] / float(members) \n",
    "                else: \n",
    "                    new_center = rd.choice(df)\n",
    "                    force_recalculation = True                    \n",
    "            \n",
    "            cluster_centers[k] = new_center\n",
    "    \n",
    "        \n",
    "    \n",
    "#     print cluster_centers\n",
    "#     print i\n",
    "    return cluster"
   ]
  },
  {
   "cell_type": "code",
   "execution_count": 7,
   "metadata": {},
   "outputs": [],
   "source": [
    "cluster = kmeans(5, Z)"
   ]
  },
  {
   "cell_type": "code",
   "execution_count": 8,
   "metadata": {},
   "outputs": [],
   "source": [
    "Z_new = pd.DataFrame( Z,columns=[ \"pc\"+str(i) for i in xrange(Z.shape[1]) ] )\n",
    "Z_new = pd.concat([Z_new, Y], axis=1)\n",
    "\n",
    "pred_Y = pd.DataFrame( cluster,columns=[ 'pred_Y' ] )\n",
    "pred_Y_scikit = pd.DataFrame( cluster_scikit,columns=[ 'pred_Y' ] )\n",
    "\n",
    "Z_mymodel = pd.concat([Z_new, pred_Y],axis=1)\n",
    "Z_scikit  = pd.concat([Z_new, pred_Y_scikit],axis=1)\n",
    "\n",
    "# Z_new.head(10)"
   ]
  },
  {
   "cell_type": "code",
   "execution_count": 9,
   "metadata": {},
   "outputs": [],
   "source": [
    "def purity(df,K):\n",
    "    pur_dict = {}\n",
    "    for i in xrange(K):\n",
    "        sub_tab = df[ df['pred_Y'] == i ]\n",
    "        name,count = np.unique(sub_tab['xAttack'],return_counts=True)\n",
    "        mx_ind = np.argmax(count)\n",
    "        print i , name[mx_ind]\n",
    "        pur_dict[i] = count[mx_ind] / float(len(sub_tab))\n",
    "        print name\n",
    "        print count\n",
    "    return pur_dict"
   ]
  },
  {
   "cell_type": "code",
   "execution_count": 10,
   "metadata": {},
   "outputs": [
    {
     "name": "stdout",
     "output_type": "stream",
     "text": [
      "0 normal\n",
      "['dos' 'normal' 'probe']\n",
      "[ 474 1319    7]\n",
      "1 probe\n",
      "['dos' 'normal' 'probe' 'r2l']\n",
      "[ 17 145 820  37]\n",
      "2 normal\n",
      "['dos' 'normal' 'probe' 'r2l' 'u2r']\n",
      "[  454 11336   353   150    10]\n",
      "3 dos\n",
      "['dos' 'normal' 'probe']\n",
      "[6805   34   77]\n",
      "4 dos\n",
      "['dos' 'normal' 'probe' 'r2l']\n",
      "[1364  530 1056   10]\n",
      "{0: 0.7327777777777778, 1: 0.8047105004906772, 2: 0.9214012842396163, 3: 0.9839502602660497, 4: 0.4608108108108108}\n"
     ]
    }
   ],
   "source": [
    "purity_dict = purity(Z_mymodel,5)\n",
    "print purity_dict"
   ]
  },
  {
   "cell_type": "code",
   "execution_count": 11,
   "metadata": {},
   "outputs": [
    {
     "name": "stdout",
     "output_type": "stream",
     "text": [
      "0 probe\n",
      "['dos' 'normal' 'probe' 'r2l']\n",
      "[ 17 143 820  36]\n",
      "1 normal\n",
      "['dos' 'normal' 'probe' 'r2l' 'u2r']\n",
      "[  926 12647   358   151    10]\n",
      "2 dos\n",
      "['dos' 'normal' 'probe']\n",
      "[6807   35   77]\n",
      "3 dos\n",
      "['dos' 'normal' 'probe' 'r2l']\n",
      "[1364  531 1058   10]\n",
      "4 normal\n",
      "['normal']\n",
      "[8]\n",
      "{0: 0.8070866141732284, 1: 0.8974595515185921, 2: 0.9838126896950427, 3: 0.4603442456969288, 4: 1.0}\n"
     ]
    }
   ],
   "source": [
    "purity_scikit = purity(Z_scikit,5)\n",
    "print purity_scikit"
   ]
  },
  {
   "cell_type": "code",
   "execution_count": null,
   "metadata": {},
   "outputs": [],
   "source": []
  }
 ],
 "metadata": {
  "kernelspec": {
   "display_name": "Python 2",
   "language": "python",
   "name": "python2"
  },
  "language_info": {
   "codemirror_mode": {
    "name": "ipython",
    "version": 2
   },
   "file_extension": ".py",
   "mimetype": "text/x-python",
   "name": "python",
   "nbconvert_exporter": "python",
   "pygments_lexer": "ipython2",
   "version": "2.7.15rc1"
  }
 },
 "nbformat": 4,
 "nbformat_minor": 2
}
