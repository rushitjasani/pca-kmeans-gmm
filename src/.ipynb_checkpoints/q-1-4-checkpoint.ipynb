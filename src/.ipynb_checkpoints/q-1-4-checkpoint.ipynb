{
 "cells": [
  {
   "cell_type": "code",
   "execution_count": 0,
   "metadata": {
    "colab": {},
    "colab_type": "code",
    "id": "Ftrpvss4-KfF"
   },
   "outputs": [],
   "source": [
    "import pandas as pd\n",
    "import numpy as np\n",
    "from sklearn.preprocessing import StandardScaler\n",
    "from sklearn.decomposition import PCA\n",
    "from sklearn.cluster import AgglomerativeClustering\n",
    "import matplotlib.pyplot as plt\n",
    "from sklearn.mixture import GaussianMixture\n",
    "from sklearn.cluster import KMeans\n",
    "\n",
    "df = pd.read_csv(\"data.csv\")\n",
    "Y = df.xAttack\n",
    "X = df.drop(['xAttack'],axis=1)\n",
    "X = (X - X.mean())/X.std()\n",
    "X.head()\n",
    "\n",
    "pca = PCA(.90)\n",
    "principalComponents = pca.fit(X)\n",
    "X_red = pca.transform(X)\n",
    "X_new = pd.DataFrame( X_red,columns=[ \"pc\"+str(i) for i in xrange(X_red.shape[1]) ] )\n",
    "\n",
    "finalDf = pd.concat([X_new, df[['xAttack']]], axis = 1)\n",
    "\n",
    "pca.explained_variance_ratio_\n",
    "\n",
    "cov_x = np.cov(X.T)\n",
    "cov_x.shape\n",
    "\n",
    "U,S,V = np.linalg.svd(cov_x)\n",
    "S_sum = float(np.sum(S))\n",
    "\n",
    "running_sum = 0\n",
    "num_of_comp = 0\n",
    "for i in xrange(len(S)):\n",
    "    running_sum += S[i]\n",
    "    if running_sum  / S_sum  >= 0.90:\n",
    "        num_of_comp = i+1\n",
    "        break\n",
    "\n",
    "# print num_of_comp\n",
    "\n",
    "# print U.shape\n",
    "\n",
    "U_red = U[:,:num_of_comp]\n",
    "# print U_red.shape\n",
    "\n",
    "Z = np.matmul(U_red.T, X.T)\n",
    "Z = Z.T\n",
    "Z_new = pd.DataFrame( Z,columns=[ \"pc\"+str(i) for i in xrange(Z.shape[1]) ] )\n",
    "\n"
   ]
  },
  {
   "cell_type": "code",
   "execution_count": 0,
   "metadata": {
    "colab": {},
    "colab_type": "code",
    "id": "e8yHxSjWUSGW"
   },
   "outputs": [],
   "source": [
    "agm = AgglomerativeClustering(n_clusters=5, affinity='euclidean', linkage='single').fit(Z_new)\n",
    "cluster_agm = agm.labels_"
   ]
  },
  {
   "cell_type": "code",
   "execution_count": 0,
   "metadata": {
    "colab": {},
    "colab_type": "code",
    "id": "V4nJxFUBToWg"
   },
   "outputs": [],
   "source": [
    "kmeans = KMeans(n_clusters=5, random_state=0).fit(Z_new)\n",
    "cluster_k_means = kmeans.labels_"
   ]
  },
  {
   "cell_type": "code",
   "execution_count": 0,
   "metadata": {
    "colab": {},
    "colab_type": "code",
    "id": "OGfYR0EvTuBt"
   },
   "outputs": [],
   "source": [
    "gmm = GaussianMixture(n_components=5, n_init=10 ).fit(Z_new)\n",
    "cluster_gmm =  gmm.predict(Z_new)"
   ]
  },
  {
   "cell_type": "code",
   "execution_count": 0,
   "metadata": {
    "colab": {},
    "colab_type": "code",
    "id": "qiBFOfOW-1O2"
   },
   "outputs": [],
   "source": [
    "def purity(df,pred_Y,K):\n",
    "    pred_Y = pd.DataFrame( pred_Y,columns=[ 'pred_Y' ] )\n",
    "    df = pd.concat([df, pred_Y],axis=1)\n",
    "    pur_dict = {}\n",
    "    for i in xrange(K):\n",
    "        sub_tab = df[ df['pred_Y'] == i ]\n",
    "        name,count = np.unique(sub_tab['xAttack'],return_counts=True)\n",
    "        mx_ind = np.argmax(count)\n",
    "#         print i , name[mx_ind]\n",
    "        pur_dict[i] = count[mx_ind] / float(len(sub_tab))\n",
    "#         print name\n",
    "#         print count\n",
    "        \n",
    "    return pur_dict\n",
    "  \n"
   ]
  },
  {
   "cell_type": "code",
   "execution_count": 6,
   "metadata": {
    "colab": {
     "base_uri": "https://localhost:8080/",
     "height": 278
    },
    "colab_type": "code",
    "id": "LoirgWyA-5sV",
    "outputId": "bb77156c-7087-4b54-c3ff-dadd220f94f4"
   },
   "outputs": [
    {
     "name": "stdout",
     "output_type": "stream",
     "text": [
      "0 normal\n",
      "1 probe\n",
      "2 r2l\n",
      "3 normal\n",
      "4 normal\n",
      "0 probe\n",
      "1 normal\n",
      "2 dos\n",
      "3 dos\n",
      "4 normal\n",
      "0 normal\n",
      "1 dos\n",
      "2 dos\n",
      "3 normal\n",
      "4 normal\n"
     ]
    }
   ],
   "source": [
    "Z_new = pd.concat([Z_new, Y], axis=1)\n",
    "\n",
    "purity_dict_agm = purity(Z_new, cluster_agm ,5)\n",
    "purity_dict_k_means = purity(Z_new, cluster_k_means ,5)\n",
    "purity_dict_gmm = purity(Z_new, cluster_gmm ,5)\n",
    "# print purity_dict"
   ]
  },
  {
   "cell_type": "code",
   "execution_count": 0,
   "metadata": {
    "colab": {},
    "colab_type": "code",
    "id": "gwVblH41Daia"
   },
   "outputs": [],
   "source": [
    "def plot_func(purity_dict):\n",
    "    val = []\n",
    "    label = []\n",
    "    for k,v in purity_dict.items():\n",
    "      val.append(v)\n",
    "      label.append(k)\n",
    "\n",
    "    print val,\n",
    "    print label\n",
    "\n",
    "    plt.pie( val, labels = label)\n",
    "    plt.show()"
   ]
  },
  {
   "cell_type": "code",
   "execution_count": 8,
   "metadata": {
    "colab": {
     "base_uri": "https://localhost:8080/",
     "height": 1008
    },
    "colab_type": "code",
    "id": "-RgXO32HSFAs",
    "outputId": "0dc44292-9381-4e22-c355-1323348d89a6"
   },
   "outputs": [
    {
     "name": "stdout",
     "output_type": "stream",
     "text": [
      "[0.5346352395053824, 1.0, 0.6666666666666666, 1.0, 1.0] [0, 1, 2, 3, 4]\n"
     ]
    },
    {
     "data": {
      "image/png": "[encoded data removed]",
      "text/plain": [
       "<Figure size 576x396 with 1 Axes>"
      ]
     },
     "metadata": {
      "tags": []
     },
     "output_type": "display_data"
    },
    {
     "name": "stdout",
     "output_type": "stream",
     "text": [
      "[0.7236679058240396, 1.0, 0.4229588704726826, 0.8472596585804133, 0.8854814497104868] [0, 1, 2, 3, 4]\n"
     ]
    },
    {
     "data": {
      "image/png": "[encoded data removed]",
      "text/plain": [
       "<Figure size 576x396 with 1 Axes>"
      ]
     },
     "metadata": {
      "tags": []
     },
     "output_type": "display_data"
    },
    {
     "name": "stdout",
     "output_type": "stream",
     "text": [
      "[0.8070866141732284, 0.8974595515185921, 0.9838126896950427, 0.4603442456969288, 1.0] [0, 1, 2, 3, 4]\n"
     ]
    },
    {
     "data": {
      "image/png": "[encoded data removed]",
      "text/plain": [
       "<Figure size 576x396 with 1 Axes>"
      ]
     },
     "metadata": {
      "tags": []
     },
     "output_type": "display_data"
    }
   ],
   "source": [
    "plot_func(purity_dict_agm)\n",
    "plot_func(purity_dict_gmm)\n",
    "plot_func(purity_dict_k_means)"
   ]
  },
  {
   "cell_type": "code",
   "execution_count": 0,
   "metadata": {
    "colab": {},
    "colab_type": "code",
    "id": "a6xmU7dtWbp6"
   },
   "outputs": [],
   "source": []
  }
 ],
 "metadata": {
  "colab": {
   "name": "q-1-4.ipynb",
   "provenance": [],
   "version": "0.3.2"
  },
  "kernelspec": {
   "display_name": "Python 2",
   "language": "python",
   "name": "python2"
  },
  "language_info": {
   "codemirror_mode": {
    "name": "ipython",
    "version": 2
   },
   "file_extension": ".py",
   "mimetype": "text/x-python",
   "name": "python",
   "nbconvert_exporter": "python",
   "pygments_lexer": "ipython2",
   "version": "2.7.15rc1"
  }
 },
 "nbformat": 4,
 "nbformat_minor": 1
}
