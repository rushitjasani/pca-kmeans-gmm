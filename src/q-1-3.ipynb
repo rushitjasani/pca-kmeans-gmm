{
 "cells": [
  {
   "cell_type": "code",
   "execution_count": 1,
   "metadata": {},
   "outputs": [],
   "source": [
    "import pandas as pd\n",
    "import numpy as np\n",
    "import random as rd\n",
    "from sklearn.preprocessing import StandardScaler\n",
    "from sklearn.decomposition import PCA\n",
    "from sklearn.mixture import GaussianMixture\n",
    "import math"
   ]
  },
  {
   "cell_type": "code",
   "execution_count": 2,
   "metadata": {},
   "outputs": [],
   "source": [
    "df = pd.read_csv(\"../input_data/intrusion_detection/data.csv\")\n",
    "Y = df.xAttack\n",
    "X = df.drop(['xAttack'],axis=1)\n",
    "X = (X - X.mean())/X.std()"
   ]
  },
  {
   "cell_type": "code",
   "execution_count": 3,
   "metadata": {},
   "outputs": [],
   "source": [
    "cov_x = np.cov(X.T)\n",
    "\n",
    "U,S,V = np.linalg.svd(cov_x)\n",
    "S_sum = float(np.sum(S))\n",
    "\n",
    "running_sum = 0\n",
    "num_of_comp = 0\n",
    "for i in xrange(len(S)):\n",
    "    running_sum += S[i]\n",
    "    if running_sum  / S_sum  >= 0.90:\n",
    "        num_of_comp = i+1\n",
    "        break\n",
    "\n",
    "U_red = U[:,:num_of_comp]\n",
    "\n",
    "Z = np.matmul(U_red.T, X.T)\n",
    "Z = Z.T\n",
    "Z_new = pd.DataFrame( Z,columns=[ \"pc\"+str(i) for i in xrange(Z.shape[1]) ] )"
   ]
  },
  {
   "cell_type": "code",
   "execution_count": null,
   "metadata": {},
   "outputs": [],
   "source": []
  },
  {
   "cell_type": "code",
   "execution_count": 4,
   "metadata": {},
   "outputs": [],
   "source": [
    "gmm = GaussianMixture(n_components=5, n_init=10 )"
   ]
  },
  {
   "cell_type": "code",
   "execution_count": 5,
   "metadata": {},
   "outputs": [
    {
     "data": {
      "text/plain": [
       "GaussianMixture(covariance_type='full', init_params='kmeans', max_iter=100,\n",
       "        means_init=None, n_components=5, n_init=10, precisions_init=None,\n",
       "        random_state=None, reg_covar=1e-06, tol=0.001, verbose=0,\n",
       "        verbose_interval=10, warm_start=False, weights_init=None)"
      ]
     },
     "execution_count": 5,
     "metadata": {},
     "output_type": "execute_result"
    }
   ],
   "source": [
    "gmm.fit(Z_new)"
   ]
  },
  {
   "cell_type": "code",
   "execution_count": 6,
   "metadata": {},
   "outputs": [
    {
     "name": "stdout",
     "output_type": "stream",
     "text": [
      "(24998,)\n"
     ]
    }
   ],
   "source": [
    "# print gmm.means_\n",
    "# print gmm.covariances_\n",
    "class_var =  gmm.predict(Z_new)\n",
    "print class_var.shape"
   ]
  },
  {
   "cell_type": "code",
   "execution_count": 7,
   "metadata": {},
   "outputs": [],
   "source": [
    "def purity(df,K):\n",
    "    pur_dict = {}\n",
    "    for i in xrange(K):\n",
    "        sub_tab = df[ df['pred_Y'] == i ]\n",
    "        name,count = np.unique(sub_tab['xAttack'],return_counts=True)\n",
    "        mx_ind = np.argmax(count)\n",
    "        print i , name[mx_ind]\n",
    "        pur_dict[i] = count[mx_ind] / float(len(sub_tab))\n",
    "        print name\n",
    "        print count\n",
    "        \n",
    "    return pur_dict"
   ]
  },
  {
   "cell_type": "code",
   "execution_count": 8,
   "metadata": {},
   "outputs": [],
   "source": [
    "Z_new = pd.DataFrame( Z,columns=[ \"pc\"+str(i) for i in xrange(Z.shape[1]) ] )\n",
    "Z_new = pd.concat([Z_new, Y], axis=1)\n",
    "\n",
    "pred_Y = pd.DataFrame( class_var,columns=[ 'pred_Y' ] )\n",
    "Z_final = pd.concat([Z_new, pred_Y],axis=1)"
   ]
  },
  {
   "cell_type": "code",
   "execution_count": 9,
   "metadata": {},
   "outputs": [
    {
     "name": "stdout",
     "output_type": "stream",
     "text": [
      "0 normal\n",
      "['dos' 'normal' 'probe' 'r2l']\n",
      "[ 771 2166 1154   91]\n",
      "1 dos\n",
      "['dos' 'normal' 'probe']\n",
      "[1364  550 1034]\n",
      "2 dos\n",
      "['dos']\n",
      "[6136]\n",
      "3 normal\n",
      "['dos' 'normal' 'probe' 'r2l' 'u2r']\n",
      "[ 268 1043   40   91    7]\n",
      "4 normal\n",
      "['dos' 'normal' 'probe' 'r2l' 'u2r']\n",
      "[ 575 9605   85   15    3]\n",
      "{0: 0.5179340028694405, 1: 0.4626865671641791, 2: 1.0, 3: 0.7198067632850241, 4: 0.9340659340659341}\n"
     ]
    }
   ],
   "source": [
    "purity_dict = purity(Z_final,5)\n",
    "print purity_dict"
   ]
  },
  {
   "cell_type": "code",
   "execution_count": null,
   "metadata": {},
   "outputs": [],
   "source": []
  }
 ],
 "metadata": {
  "kernelspec": {
   "display_name": "Python 2",
   "language": "python",
   "name": "python2"
  },
  "language_info": {
   "codemirror_mode": {
    "name": "ipython",
    "version": 2
   },
   "file_extension": ".py",
   "mimetype": "text/x-python",
   "name": "python",
   "nbconvert_exporter": "python",
   "pygments_lexer": "ipython2",
   "version": "2.7.15+"
  }
 },
 "nbformat": 4,
 "nbformat_minor": 2
}
